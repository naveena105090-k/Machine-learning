{
  "nbformat": 4,
  "nbformat_minor": 0,
  "metadata": {
    "colab": {
      "provenance": []
    },
    "kernelspec": {
      "name": "python3",
      "display_name": "Python 3"
    },
    "language_info": {
      "name": "python"
    }
  },
  "cells": [
    {
      "cell_type": "markdown",
      "source": [
        "# KNN Scratch implementation\n",
        "\n",
        "\n"
      ],
      "metadata": {
        "id": "iUXLvRmnFOwR"
      }
    },
    {
      "cell_type": "markdown",
      "source": [
        "**Step 1:Loading Dataset**\n"
      ],
      "metadata": {
        "id": "aIbG4kdtFzXs"
      }
    },
    {
      "cell_type": "code",
      "execution_count": 26,
      "metadata": {
        "colab": {
          "base_uri": "https://localhost:8080/"
        },
        "id": "gyUQexdJE4ci",
        "outputId": "fe4154eb-b522-4031-c951-31faf714d9dd"
      },
      "outputs": [
        {
          "output_type": "stream",
          "name": "stdout",
          "text": [
            "Downloading...\n",
            "From: https://drive.google.com/uc?id=1ZdhRqYv-JizWV6DxO6C4R_k1kxPhmlF2\n",
            "To: /content/groceries.csv\n",
            "\r  0% 0.00/14.6k [00:00<?, ?B/s]\r100% 14.6k/14.6k [00:00<00:00, 28.6MB/s]\n",
            "First 5 rows:\n",
            "    Region  Fresh  Milk  Grocery  Frozen  Detergents_Paper  Delicassen  class\n",
            "0       3  12669  9656     7561     214              2674        1338      2\n",
            "1       3   7057  9810     9568    1762              3293        1776      2\n",
            "2       3   6353  8808     7684    2405              3516        7844      2\n",
            "3       3  13265  1196     4221    6404               507        1788      1\n",
            "4       3  22615  5410     7198    3915              1777        5185      1\n",
            "\n",
            "Shape: (440, 8)\n",
            "\n",
            "Columns: Index(['Region', 'Fresh', 'Milk', 'Grocery', 'Frozen', 'Detergents_Paper',\n",
            "       'Delicassen', 'class'],\n",
            "      dtype='object')\n"
          ]
        }
      ],
      "source": [
        "import pandas as pd\n",
        "import numpy as np\n",
        "\n",
        "!gdown 1ZdhRqYv-JizWV6DxO6C4R_k1kxPhmlF2 -O groceries.csv\n",
        "\n",
        "df = pd.read_csv(\"groceries.csv\")\n",
        "print(\"First 5 rows:\\n\", df.head())\n",
        "print(\"\\nShape:\", df.shape)\n",
        "print(\"\\nColumns:\", df.columns)\n"
      ]
    },
    {
      "cell_type": "markdown",
      "source": [
        "**Step 2: Data Pre-Processing**\n",
        "\n"
      ],
      "metadata": {
        "id": "NQPo36QTGoN7"
      }
    },
    {
      "cell_type": "code",
      "source": [
        "# Standardize column names\n",
        "df.columns = df.columns.str.strip().str.lower().str.replace(\" \", \"_\")\n",
        "\n",
        "# Check Nulls\n",
        "print(\"\\nMissing values:\\n\", df.isnull().sum())\n",
        "\n",
        "# Fill numeric missing values with mean, categorical with mode\n",
        "for col in df.columns:\n",
        "    if df[col].dtype == \"object\":\n",
        "        df[col].fillna(df[col].mode()[0], inplace=True)\n",
        "    else:\n",
        "        df[col].fillna(df[col].mean(), inplace=True)\n",
        "\n",
        "# Encode categorical variables\n",
        "from sklearn.preprocessing import LabelEncoder, StandardScaler\n",
        "\n",
        "label_encoders = {}\n",
        "for col in df.select_dtypes(include=[\"object\"]).columns:\n",
        "    le = LabelEncoder()\n",
        "    df[col] = le.fit_transform(df[col])\n",
        "    label_encoders[col] = le\n",
        "\n",
        "# Standardize numeric features\n",
        "scaler = StandardScaler()\n",
        "num_cols = df.select_dtypes(include=np.number).columns\n",
        "df[num_cols] = scaler.fit_transform(df[num_cols])\n",
        "\n",
        "print(\"\\nProcessed Data Sample:\\n\", df.head())\n",
        "\n"
      ],
      "metadata": {
        "colab": {
          "base_uri": "https://localhost:8080/"
        },
        "id": "jC_fLD3oG4gQ",
        "outputId": "35463217-67de-465e-a663-de2c31f6d944"
      },
      "execution_count": 27,
      "outputs": [
        {
          "output_type": "stream",
          "name": "stdout",
          "text": [
            "\n",
            "Missing values:\n",
            " region              0\n",
            "fresh               0\n",
            "milk                0\n",
            "grocery             0\n",
            "frozen              0\n",
            "detergents_paper    0\n",
            "delicassen          0\n",
            "class               0\n",
            "dtype: int64\n",
            "\n",
            "Processed Data Sample:\n",
            "      region     fresh      milk   grocery    frozen  detergents_paper  \\\n",
            "0  0.590668  0.052933  0.523568 -0.041115 -0.589367         -0.043569   \n",
            "1  0.590668 -0.391302  0.544458  0.170318 -0.270136          0.086407   \n",
            "2  0.590668 -0.447029  0.408538 -0.028157 -0.137536          0.133232   \n",
            "3  0.590668  0.100111 -0.624020 -0.392977  0.687144         -0.498588   \n",
            "4  0.590668  0.840239 -0.052396 -0.079356  0.173859         -0.231918   \n",
            "\n",
            "   delicassen     class  \n",
            "0   -0.066339 -0.262905  \n",
            "1    0.089151 -0.262905  \n",
            "2    2.243293 -0.262905  \n",
            "3    0.093411 -1.607999  \n",
            "4    1.299347 -1.607999  \n"
          ]
        },
        {
          "output_type": "stream",
          "name": "stderr",
          "text": [
            "/tmp/ipython-input-1046462238.py:12: FutureWarning: A value is trying to be set on a copy of a DataFrame or Series through chained assignment using an inplace method.\n",
            "The behavior will change in pandas 3.0. This inplace method will never work because the intermediate object on which we are setting values always behaves as a copy.\n",
            "\n",
            "For example, when doing 'df[col].method(value, inplace=True)', try using 'df.method({col: value}, inplace=True)' or df[col] = df[col].method(value) instead, to perform the operation inplace on the original object.\n",
            "\n",
            "\n",
            "  df[col].fillna(df[col].mean(), inplace=True)\n"
          ]
        }
      ]
    },
    {
      "cell_type": "markdown",
      "source": [
        "\n",
        "**Step 3: Splitting into Train and Test**"
      ],
      "metadata": {
        "id": "Zsb0jy7HOtDM"
      }
    },
    {
      "cell_type": "code",
      "source": [
        "\n",
        "from sklearn.preprocessing import LabelEncoder\n",
        "X = df.drop(target_col, axis=1).values\n",
        "y = df[target_col].values\n",
        "\n",
        "le = LabelEncoder()\n",
        "y = le.fit_transform(y)\n",
        "\n",
        "# Train-Test Split again (with corrected y)\n",
        "from sklearn.model_selection import train_test_split\n",
        "X_train, X_test, y_train, y_test = train_test_split(\n",
        "    X, y, test_size=0.2, random_state=42\n",
        ")\n",
        "\n",
        "print(\"\\nTrain shape:\", X_train.shape, \" Test shape:\", X_test.shape)"
      ],
      "metadata": {
        "colab": {
          "base_uri": "https://localhost:8080/"
        },
        "id": "eioNgvalO75T",
        "outputId": "96f32d65-e1de-4bc8-c190-ef6c1d8770b1"
      },
      "execution_count": 31,
      "outputs": [
        {
          "output_type": "stream",
          "name": "stdout",
          "text": [
            "\n",
            "Train shape: (352, 7)  Test shape: (88, 7)\n"
          ]
        }
      ]
    },
    {
      "cell_type": "markdown",
      "source": [
        "**Step 4:KNN Scratch Implementation**"
      ],
      "metadata": {
        "id": "iXKNTUdxQuB2"
      }
    },
    {
      "cell_type": "code",
      "source": [
        "from collections import Counter\n",
        "\n",
        "def euclidean_distance(x1, x2):\n",
        "    return np.sqrt(np.sum((x1 - x2) ** 2))\n",
        "\n",
        "class KNN_Scratch:\n",
        "    def __init__(self, k=3):\n",
        "        self.k = k\n",
        "\n",
        "    def fit(self, X, y):\n",
        "        self.X_train = X\n",
        "        self.y_train = y\n",
        "\n",
        "    def predict(self, X):\n",
        "        return np.array([self._predict(x) for x in X])\n",
        "\n",
        "    def _predict(self, x):\n",
        "        distances = [euclidean_distance(x, x_train) for x_train in self.X_train]\n",
        "        k_indices = np.argsort(distances)[:self.k]\n",
        "        k_labels = [self.y_train[i] for i in k_indices]\n",
        "        most_common = Counter(k_labels).most_common(1)\n",
        "        return most_common[0][0]\n",
        "\n",
        "# Train & Evaluate Scratch KNN\n",
        "knn_scratch = KNN_Scratch(k=5)\n",
        "knn_scratch.fit(X_train, y_train)\n",
        "y_pred_scratch = knn_scratch.predict(X_test)\n",
        "\n",
        "acc_scratch = np.mean(y_pred_scratch == y_test)\n",
        "print(\"\\nScratch KNN Accuracy:\", acc_scratch)"
      ],
      "metadata": {
        "colab": {
          "base_uri": "https://localhost:8080/"
        },
        "id": "tvxxcxrTQ5H8",
        "outputId": "036be0b9-6e30-4ba3-f3f5-0cca006cfb13"
      },
      "execution_count": 33,
      "outputs": [
        {
          "output_type": "stream",
          "name": "stdout",
          "text": [
            "\n",
            "Scratch KNN Accuracy: 0.7613636363636364\n"
          ]
        }
      ]
    },
    {
      "cell_type": "markdown",
      "source": [
        "**Step 5:KNN using sklearn**"
      ],
      "metadata": {
        "id": "ufhn1Sv7RsH6"
      }
    },
    {
      "cell_type": "code",
      "source": [
        "from sklearn.neighbors import KNeighborsClassifier\n",
        "from sklearn.metrics import accuracy_score, classification_report\n",
        "\n",
        "knn_sk = KNeighborsClassifier(n_neighbors=5)\n",
        "knn_sk.fit(X_train, y_train)\n",
        "\n",
        "y_pred_sk = knn_sk.predict(X_test)\n",
        "\n",
        "print(\"Sklearn KNN Accuracy:\", accuracy_score(y_test, y_pred_sk))\n",
        "# print(\"\\nClassification Report:\\n\", classification_report(y_test, y_pred_sk))\n"
      ],
      "metadata": {
        "colab": {
          "base_uri": "https://localhost:8080/"
        },
        "id": "qcFmKTx6SoLP",
        "outputId": "fd8e9172-eaf5-44b3-9ef4-66f8ceed9c84"
      },
      "execution_count": 32,
      "outputs": [
        {
          "output_type": "stream",
          "name": "stdout",
          "text": [
            "Sklearn KNN Accuracy: 0.7386363636363636\n"
          ]
        }
      ]
    }
  ]
}